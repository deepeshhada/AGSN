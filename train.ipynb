{
  "nbformat": 4,
  "nbformat_minor": 0,
  "metadata": {
    "colab": {
      "name": "ZSL - SABR.ipynb",
      "provenance": [],
      "collapsed_sections": [],
      "mount_file_id": "1XKSRkrTynoK9nQYTGdw0_SbDpYoWdwTa",
      "authorship_tag": "ABX9TyMOAXwMObdyC814+5KXw5KY",
      "include_colab_link": true
    },
    "kernelspec": {
      "name": "python3",
      "display_name": "Python 3"
    },
    "accelerator": "GPU"
  },
  "cells": [
    {
      "cell_type": "markdown",
      "metadata": {
        "id": "view-in-github",
        "colab_type": "text"
      },
      "source": [
        "<a href=\"https://colab.research.google.com/github/deepeshhada/SABR/blob/master/train.ipynb\" target=\"_parent\"><img src=\"https://colab.research.google.com/assets/colab-badge.svg\" alt=\"Open In Colab\"/></a>"
      ]
    },
    {
      "cell_type": "code",
      "metadata": {
        "id": "vCCGCNUyKVqG",
        "colab_type": "code",
        "colab": {}
      },
      "source": [
        "import os\n",
        "\n",
        "import numpy as np\n",
        "import pandas as pd\n",
        "import scipy.io as io\n",
        "\n",
        "import torch\n",
        "import torch.nn as nn\n",
        "from torch.utils.data import Dataset, DataLoader"
      ],
      "execution_count": 0,
      "outputs": []
    },
    {
      "cell_type": "code",
      "metadata": {
        "id": "xc_Hx75kNwVX",
        "colab_type": "code",
        "colab": {}
      },
      "source": [
        "device = \"cuda:0\" if torch.cuda.is_available() else \"cpu\"\n",
        "batch_size = 8\n",
        "data_root = \"./drive/My Drive/Deep Learning/datasets/ZSL Datasets/CUB/\""
      ],
      "execution_count": 0,
      "outputs": []
    },
    {
      "cell_type": "code",
      "metadata": {
        "id": "nPj6eYTRrd3H",
        "colab_type": "code",
        "colab": {}
      },
      "source": [
        "class CUB(Dataset):\n",
        "    def __init__(self, features, labels, class_embeddings):\n",
        "        self.features = features\n",
        "        self.labels = labels\n",
        "        self.class_embeddings = class_embeddings\n",
        "    \n",
        "    def __len__(self):\n",
        "        return len(self.labels)\n",
        "\n",
        "    def __getitem__(self, index):\n",
        "        label = self.labels[index]\n",
        "        print(label)\n",
        "        return (self.features[index], label, class_embeddings[label])"
      ],
      "execution_count": 0,
      "outputs": []
    },
    {
      "cell_type": "code",
      "metadata": {
        "id": "3LmE2ATJX6MT",
        "colab_type": "code",
        "colab": {}
      },
      "source": [
        "# load mat files\n",
        "res101 = io.loadmat(data_root + \"res101.mat\")\n",
        "att_splits = io.loadmat(data_root + \"att_splits.mat\")\n",
        "\n",
        "resnet_features = res101['features'].T\n",
        "class_labels = res101['labels']\n",
        "class_embeddings = att_splits['att'].T"
      ],
      "execution_count": 0,
      "outputs": []
    },
    {
      "cell_type": "code",
      "metadata": {
        "id": "0nJ60HC9NcuT",
        "colab_type": "code",
        "colab": {}
      },
      "source": [
        "### perform train+val, test splits ###\n",
        "\n",
        "# train dataloader\n",
        "train_loc = att_splits['trainval_loc'].reshape(-1) - 1\n",
        "train_features = resnet_features[train_loc]\n",
        "train_labels = class_labels[train_loc].reshape(-1) - 1\n",
        "\n",
        "train_set = CUB(\n",
        "    features=train_features,\n",
        "    labels=train_labels,\n",
        "    class_embeddings=class_embeddings\n",
        ")\n",
        "\n",
        "trainloader = DataLoader(\n",
        "    dataset=train_set,\n",
        "    batch_size=batch_size,\n",
        "    shuffle=True\n",
        ")\n",
        "\n",
        "# test dataloader for seen classes\n",
        "\n",
        "test_seen_loc = att_splits['test_seen_loc'].reshape(-1) - 1\n",
        "test_seen_features = resnet_features[test_seen_loc]\n",
        "test_seen_labels = class_labels[test_seen_loc].reshape(-1) - 1\n",
        "\n",
        "test_seen_set = CUB(\n",
        "    features=test_seen_features,\n",
        "    labels=test_seen_labels,\n",
        "    class_embeddings=class_embeddings\n",
        ")\n",
        "\n",
        "testloader_seen = DataLoader(\n",
        "    dataset=test_seen_set,\n",
        "    batch_size=batch_size,\n",
        "    shuffle=False\n",
        ")\n",
        "\n",
        "# test dataloader for unseen classes\n",
        "test_unseen_loc = att_splits['test_unseen_loc'].reshape(-1) - 1\n",
        "test_unseen_features = resnet_features[test_unseen_loc]\n",
        "test_unseen_labels = class_labels[test_unseen_loc].reshape(-1) - 1\n",
        "\n",
        "test_unseen_set = CUB(\n",
        "    features=test_unseen_features,\n",
        "    labels=test_unseen_labels,\n",
        "    class_embeddings=class_embeddings\n",
        ")\n",
        "\n",
        "testloader_unseen = DataLoader(\n",
        "    dataset=test_unseen_set,\n",
        "    batch_size=batch_size,\n",
        "    shuffle=False\n",
        ")"
      ],
      "execution_count": 0,
      "outputs": []
    },
    {
      "cell_type": "code",
      "metadata": {
        "id": "uSM-P3k7jTDB",
        "colab_type": "code",
        "colab": {
          "base_uri": "https://localhost:8080/",
          "height": 147
        },
        "outputId": "4b2502bb-36aa-46ab-ce1b-ff2156a3d4ae"
      },
      "source": [
        "for i, data in enumerate(trainloader, 0):\n",
        "    features, labels, embeddings = data\n",
        "    # TODO: train the model\n",
        "    break"
      ],
      "execution_count": 6,
      "outputs": [
        {
          "output_type": "stream",
          "text": [
            "10\n",
            "9\n",
            "122\n",
            "25\n",
            "104\n",
            "65\n",
            "0\n",
            "53\n"
          ],
          "name": "stdout"
        }
      ]
    }
  ]
}